{
 "cells": [
  {
   "cell_type": "markdown",
   "metadata": {},
   "source": [
    "## The AKS Primality Test among otherss\n",
    "The AKS primality test was a revolutionary method of determining if a number is prime in polynomial time, specifically the current best time is $O(log(n)^6)$, but it is theorized to be able to run in $O(log(n)^3)$ if [Agrawal's Conjecture](https://en.wikipedia.org/wiki/Agrawal%27s_conjecture) is proven true. There are other methods, with different complexity that will be discussed along the way. I hope you enjoy!\n"
   ]
  },
  {
   "cell_type": "code",
   "execution_count": 38,
   "metadata": {},
   "outputs": [],
   "source": [
    "from matplotlib import pyplot as plt\n",
    "from numpy.random import randint\n",
    "from numpy import arange, int64\n",
    "from math import sqrt, log, floor\n",
    "from sympy import isprime\n",
    "import time\n",
    "\n",
    "#First, lets get a big list of numbers to compare all our trials with.\n",
    "NumberList = randint(low=2, high=10000000, size=1000000, dtype=int64)\n",
    "\n",
    "#Also this list will keep track of times, useful later\n",
    "time_list = []"
   ]
  },
  {
   "cell_type": "markdown",
   "metadata": {},
   "source": [
    "### Simple Methods\n",
    "Before we get to the cool stuff, we have to go over the simple methods. These are not named for the most part, and just involve checking specific numbers in a range. We will go from the simplest, checking from 2 to $n^{1/2}$, to more complex ones that skip over certain numbers."
   ]
  },
  {
   "cell_type": "code",
   "execution_count": 39,
   "metadata": {},
   "outputs": [],
   "source": [
    "def primeroot(n):\n",
    "    for num in range(2,int(sqrt(n))):\n",
    "        if num % n == 0:\n",
    "            return False\n",
    "    return True\n",
    "\n",
    "def sixkroot(n):\n",
    "    if n % 2 == 0 or n % 3 == 0:    return False\n",
    "    num = 1\n",
    "    while 6*num + 1 <= int(sqrt(n)):\n",
    "        if 6*num + 1 % n == 0:\n",
    "            return False\n",
    "        if 6* num + 5 % n == 0:\n",
    "            return False\n",
    "        num += 1\n",
    "    return True\n",
    "\n",
    "def time_test(func, lister=NumberList):\n",
    "    start_time = time.time()\n",
    "    for num in lister:\n",
    "        func(num)\n",
    "    return time.time() - start_time"
   ]
  },
  {
   "cell_type": "code",
   "execution_count": 40,
   "metadata": {},
   "outputs": [
    {
     "name": "stdout",
     "output_type": "stream",
     "text": [
      "Completed Prime at time: 194.24032402038574\n",
      "Complete SixKRoot at time: 120.14442777633667\n"
     ]
    }
   ],
   "source": [
    "\n",
    "time_list.append(time_test(primeroot))\n",
    "print(f'Completed Prime at time: {time_list[-1]}')\n",
    "time_list.append(time_test(sixkroot))\n",
    "print(f'Complete SixKRoot at time: {time_list[-1]}')\n",
    "completed = [\"Root Test\", \"Root and six\"]"
   ]
  },
  {
   "cell_type": "markdown",
   "metadata": {},
   "source": [
    "### Initial Visualization\n",
    "Now, lets do a bit of a visualization to see the difference between our two simple methods."
   ]
  },
  {
   "cell_type": "code",
   "execution_count": 41,
   "metadata": {},
   "outputs": [
    {
     "data": {
      "image/png": "[encoded data removed]",
      "text/plain": [
       "<Figure size 640x480 with 1 Axes>"
      ]
     },
     "metadata": {},
     "output_type": "display_data"
    }
   ],
   "source": [
    "\n",
    "fig, ax = plt.subplots()\n",
    "bars = ax.bar(completed, time_list, color=['paleturquoise','coral'], width=0.5)\n",
    "ax.set_ylim(0, max(time_list) + abs(time_list[0] - time_list[1]))\n",
    "\n",
    "ax.set_title(\"Primality Test Comparison\")\n",
    "ax.spines['top'].set_visible(False)\n",
    "ax.spines['right'].set_visible(False)\n",
    "ax.spines['left'].set_visible(False)\n",
    "ax.spines['bottom'].set_color('#DDDDDD')\n",
    "ax.set_axisbelow(True)\n",
    "ax.yaxis.grid(True, color='#EEEEEE')\n",
    "ax.xaxis.grid(False)\n",
    "\n",
    "for bar in bars:\n",
    "  ax.text(\n",
    "      bar.get_x() + bar.get_width() / 2,\n",
    "      bar.get_height() + 0.005,\n",
    "      round(bar.get_height(), 4),\n",
    "      horizontalalignment='center',\n",
    "      color=\"mediumseagreen\",\n",
    "      weight='bold'\n",
    "  )\n",
    "plt.show()"
   ]
  },
  {
   "cell_type": "markdown",
   "metadata": {},
   "source": [
    "# Wow!!!\n",
    "Please note, that y axis is on a reduce scale; at a larger scale it would be more noticeable, but still not by much. Specifically, the difference is $O(n^{1/2})$ as compared to $O(\\frac{n^{1/2}}{3})$ for each n within the set of 25,000,000. Let's move onto the next method, called the miller rubin which works based on the correctness of the (unproven) Generalized Riemann Hypothesis. This is sort of hard to explain without you reading the [wikipedia page here](https://en.wikipedia.org/wiki/Miller%E2%80%93Rabin_primality_test#Deterministic_variants). Importantly, this is not a foolproof method, it is called a probabalistic test because it can sometimes miss composite numbers. The Miller Rubin test functions on the concept of what are called *Strong Probable* primes, which means it satisfies a condition satisfied by all prime numbers and only a few composite numbers. This is why the test doesn't actually get only primes, but gets all primes and some composite numbers. Specifically, for some odd n > 2, let n - 1 = $2^sd$.  n is said to be a strong probable prime if one of the two following congruence relations holds in $\\mathbb{Z}_n$. Either, for some integer a, $a^d \\equiv 1 \\mod{n}$ or $a^{2^rd} \\equiv 1 \\mod{n}$, then n is a strong probable prime in base a. If n is not, then n is definitely composite. This is how we filter out so many of these numbers, because we know this property of primes has to be satisfied meaning, if we can bound a to a small range, like say 5 numbers, we would need way less comparisons. Lets see it!"
   ]
  },
  {
   "cell_type": "code",
   "execution_count": 42,
   "metadata": {},
   "outputs": [],
   "source": [
    "def millerrubin(n):\n",
    "    if n % 2 == 0:  return False    #We don't care about even n.\n",
    "    ns = n - 1\n",
    "    s = 0\n",
    "    while ns % 2 == 0 and ns != 0:\n",
    "        ns /= 2\n",
    "        s += 1\n",
    "    d = ns\n",
    "    for a in range(min(n-2, floor(2*(log(n))**2))):\n",
    "        x = (a ** d) % n\n",
    "        for i in range(s):\n",
    "            y = x**2 % n\n",
    "            if y == 1 and x != 1 and x != n-1:\n",
    "                return False\n",
    "            x = y\n",
    "        if y != 1:  return False\n",
    "    return true\n",
    "\n",
    "def boundedmillerrubin(n): # These bounds are based on the work of Pomerance, Selfridge, Wagstaff and Jaeschke. There are higher bounded, but ours are only needed so far.\n",
    "    if n % 2 == 0:  return False    #We don't care about even n.\n",
    "    ns = n - 1\n",
    "    s = 0\n",
    "    while ns % 2 == 0 and ns != 0:\n",
    "        ns /= 2\n",
    "        s += 1\n",
    "    d = ns\n",
    "    boundkey = {2047: [2], 1373653: [2,3], 9080191: [31, 73], 25326001: [2,3,5], 3215031751: [2,3,5,7]}\n",
    "    for key in boundkey.keys():\n",
    "        if n < key:\n",
    "            akey = key\n",
    "            break\n",
    "    for a in boundkey[akey]:\n",
    "        x = (a ** d) % n\n",
    "        for i in range(s):\n",
    "            y = x**2 % n\n",
    "            if y == 1 and x != 1 and x != n-1:\n",
    "                return False\n",
    "            x = y\n",
    "        if y != 1:  return False\n",
    "    return True\n"
   ]
  },
  {
   "cell_type": "code",
   "execution_count": 43,
   "metadata": {},
   "outputs": [
    {
     "name": "stdout",
     "output_type": "stream",
     "text": [
      "Finished Miller Rubin test at 3.369264602661133\n"
     ]
    },
    {
     "name": "stderr",
     "output_type": "stream",
     "text": [
      "C:\\Users\\bobby\\AppData\\Local\\Temp\\ipykernel_16328\\371014432.py:33: RuntimeWarning: overflow encountered in scalar power\n",
      "  x = (a ** d) % n\n",
      "C:\\Users\\bobby\\AppData\\Local\\Temp\\ipykernel_16328\\371014432.py:33: RuntimeWarning: invalid value encountered in scalar remainder\n",
      "  x = (a ** d) % n\n"
     ]
    },
    {
     "name": "stdout",
     "output_type": "stream",
     "text": [
      "Finished Bounded Miller Rubin test at 7.358402729034424\n"
     ]
    }
   ],
   "source": [
    "time_list.append(time_test(millerrubin))\n",
    "print(f\"Finished Miller Rubin test at {time_list[-1]}\")\n",
    "time_list.append(time_test(boundedmillerrubin))\n",
    "print(f\"Finished Bounded Miller Rubin test at {time_list[-1]}\")\n",
    "completed.append(\"Miller Rubin\")\n",
    "completed.append(\"Bounded Miller Rubin\")"
   ]
  },
  {
   "cell_type": "code",
   "execution_count": 49,
   "metadata": {},
   "outputs": [
    {
     "data": {
      "image/png": "[encoded data removed]",
      "text/plain": [
       "<Figure size 640x480 with 1 Axes>"
      ]
     },
     "metadata": {},
     "output_type": "display_data"
    }
   ],
   "source": [
    "\n",
    "fig, ax = plt.subplots()\n",
    "bars = ax.bar(completed, time_list, color=['paleturquoise','coral', 'fuchsia', 'olivedrab'], width=0.5)\n",
    "ax.set_ylim(0, max(time_list) + abs(time_list[0] - time_list[1]))\n",
    "\n",
    "ax.set_title(\"Primality Test Comparison\")\n",
    "ax.spines['top'].set_visible(False)\n",
    "ax.spines['right'].set_visible(False)\n",
    "ax.spines['left'].set_visible(False)\n",
    "ax.spines['bottom'].set_color('#DDDDDD')\n",
    "ax.set_axisbelow(True)\n",
    "ax.yaxis.grid(True, color='#EEEEEE')\n",
    "ax.xaxis.grid(False)\n",
    "\n",
    "for bar in bars:\n",
    "  ax.text(\n",
    "      bar.get_x() + bar.get_width() / 2,\n",
    "      bar.get_height() + 0.9,\n",
    "      round(bar.get_height(), 4),\n",
    "      horizontalalignment='center',\n",
    "      color=\"mediumseagreen\",\n",
    "      weight='bold'\n",
    "  )\n",
    "plt.show()"
   ]
  },
  {
   "cell_type": "markdown",
   "metadata": {},
   "source": [
    "TODO: Add RKS and maybe one more"
   ]
  },
  {
   "cell_type": "code",
   "execution_count": null,
   "metadata": {},
   "outputs": [],
   "source": []
  }
 ],
 "metadata": {
  "kernelspec": {
   "display_name": "Python 3",
   "language": "python",
   "name": "python3"
  },
  "language_info": {
   "codemirror_mode": {
    "name": "ipython",
    "version": 3
   },
   "file_extension": ".py",
   "mimetype": "text/x-python",
   "name": "python",
   "nbconvert_exporter": "python",
   "pygments_lexer": "ipython3",
   "version": "3.11.4"
  }
 },
 "nbformat": 4,
 "nbformat_minor": 2
}
