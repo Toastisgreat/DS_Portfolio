{
 "cells": [
  {
   "cell_type": "code",
   "execution_count": 1,
   "metadata": {},
   "outputs": [],
   "source": [
    "import sympy\n",
    "import json"
   ]
  },
  {
   "cell_type": "code",
   "execution_count": 2,
   "metadata": {},
   "outputs": [],
   "source": [
    "biggest_7_number = 0\n",
    "number_to_0 = 100000\n",
    "while number_to_0 >= 7:\n",
    "    number_to_0 /= 7\n",
    "    biggest_7_number += 1\n",
    "\n",
    "primes = [i for i in range(10000) if sympy.isprime(i)]\n",
    "non_primes = [i for i in range(10000) if i not in primes]"
   ]
  },
  {
   "cell_type": "code",
   "execution_count": null,
   "metadata": {},
   "outputs": [],
   "source": []
  },
  {
   "cell_type": "code",
   "execution_count": 3,
   "metadata": {},
   "outputs": [],
   "source": [
    "\n",
    "def base_converter(i, highest_power, base):\n",
    "    \n",
    "    num = 0\n",
    "    new_i = i\n",
    "    if i / base ** (highest_power+1) == 1:\n",
    "        highest_power += 1\n",
    "        num = 10 ** (highest_power)\n",
    "        return num, highest_power\n",
    "    if True:\n",
    "        for counter in range(highest_power + 1):\n",
    "            remainder = new_i // (base ** (highest_power - counter))\n",
    "            new_i -= (new_i // (base ** (highest_power - counter ))) *  base**(highest_power - counter)\n",
    "            #print(f'remainder: {remainder}')\n",
    "            #print(f'new_i: {new_i}')\n",
    "            num += (10 ** (highest_power - counter)) * remainder\n",
    "    return num, highest_power\n",
    "\n",
    "\n"
   ]
  },
  {
   "cell_type": "code",
   "execution_count": 6,
   "metadata": {},
   "outputs": [
    {
     "ename": "JSONDecodeError",
     "evalue": "Expecting value: line 1 column 1 (char 0)",
     "output_type": "error",
     "traceback": [
      "\u001b[1;31m---------------------------------------------------------------------------\u001b[0m",
      "\u001b[1;31mJSONDecodeError\u001b[0m                           Traceback (most recent call last)",
      "\u001b[1;32mc:\\Users\\bobby\\Coding\\Deep Learning Projects\\DS_Portfolio\\Math_Visualizations\\Prime number circles\\Primevis.ipynb Cell 5\u001b[0m line \u001b[0;36m5\n\u001b[0;32m      <a href='vscode-notebook-cell:/c%3A/Users/bobby/Coding/Deep%20Learning%20Projects/DS_Portfolio/Math_Visualizations/Prime%20number%20circles/Primevis.ipynb#X10sZmlsZQ%3D%3D?line=1'>2</a>\u001b[0m \u001b[39m#IF YOU WANT TO DO A NEW BASE OR IT WON'T WORK SET THAT TO FALSE\u001b[39;00m\n\u001b[0;32m      <a href='vscode-notebook-cell:/c%3A/Users/bobby/Coding/Deep%20Learning%20Projects/DS_Portfolio/Math_Visualizations/Prime%20number%20circles/Primevis.ipynb#X10sZmlsZQ%3D%3D?line=3'>4</a>\u001b[0m \u001b[39mif\u001b[39;00m already_done:\n\u001b[1;32m----> <a href='vscode-notebook-cell:/c%3A/Users/bobby/Coding/Deep%20Learning%20Projects/DS_Portfolio/Math_Visualizations/Prime%20number%20circles/Primevis.ipynb#X10sZmlsZQ%3D%3D?line=4'>5</a>\u001b[0m     new_prime \u001b[39m=\u001b[39m json\u001b[39m.\u001b[39;49mloads(\u001b[39m'\u001b[39;49m\u001b[39mprimes.json\u001b[39;49m\u001b[39m'\u001b[39;49m)\n\u001b[0;32m      <a href='vscode-notebook-cell:/c%3A/Users/bobby/Coding/Deep%20Learning%20Projects/DS_Portfolio/Math_Visualizations/Prime%20number%20circles/Primevis.ipynb#X10sZmlsZQ%3D%3D?line=5'>6</a>\u001b[0m     new_nonprime \u001b[39m=\u001b[39m json\u001b[39m.\u001b[39mloads(\u001b[39m'\u001b[39m\u001b[39mnonprimes.json\u001b[39m\u001b[39m'\u001b[39m)\n\u001b[0;32m      <a href='vscode-notebook-cell:/c%3A/Users/bobby/Coding/Deep%20Learning%20Projects/DS_Portfolio/Math_Visualizations/Prime%20number%20circles/Primevis.ipynb#X10sZmlsZQ%3D%3D?line=6'>7</a>\u001b[0m \u001b[39melse\u001b[39;00m:\n",
      "File \u001b[1;32mc:\\Users\\bobby\\AppData\\Local\\Programs\\Python\\Python311\\Lib\\json\\__init__.py:346\u001b[0m, in \u001b[0;36mloads\u001b[1;34m(s, cls, object_hook, parse_float, parse_int, parse_constant, object_pairs_hook, **kw)\u001b[0m\n\u001b[0;32m    341\u001b[0m     s \u001b[39m=\u001b[39m s\u001b[39m.\u001b[39mdecode(detect_encoding(s), \u001b[39m'\u001b[39m\u001b[39msurrogatepass\u001b[39m\u001b[39m'\u001b[39m)\n\u001b[0;32m    343\u001b[0m \u001b[39mif\u001b[39;00m (\u001b[39mcls\u001b[39m \u001b[39mis\u001b[39;00m \u001b[39mNone\u001b[39;00m \u001b[39mand\u001b[39;00m object_hook \u001b[39mis\u001b[39;00m \u001b[39mNone\u001b[39;00m \u001b[39mand\u001b[39;00m\n\u001b[0;32m    344\u001b[0m         parse_int \u001b[39mis\u001b[39;00m \u001b[39mNone\u001b[39;00m \u001b[39mand\u001b[39;00m parse_float \u001b[39mis\u001b[39;00m \u001b[39mNone\u001b[39;00m \u001b[39mand\u001b[39;00m\n\u001b[0;32m    345\u001b[0m         parse_constant \u001b[39mis\u001b[39;00m \u001b[39mNone\u001b[39;00m \u001b[39mand\u001b[39;00m object_pairs_hook \u001b[39mis\u001b[39;00m \u001b[39mNone\u001b[39;00m \u001b[39mand\u001b[39;00m \u001b[39mnot\u001b[39;00m kw):\n\u001b[1;32m--> 346\u001b[0m     \u001b[39mreturn\u001b[39;00m _default_decoder\u001b[39m.\u001b[39;49mdecode(s)\n\u001b[0;32m    347\u001b[0m \u001b[39mif\u001b[39;00m \u001b[39mcls\u001b[39m \u001b[39mis\u001b[39;00m \u001b[39mNone\u001b[39;00m:\n\u001b[0;32m    348\u001b[0m     \u001b[39mcls\u001b[39m \u001b[39m=\u001b[39m JSONDecoder\n",
      "File \u001b[1;32mc:\\Users\\bobby\\AppData\\Local\\Programs\\Python\\Python311\\Lib\\json\\decoder.py:337\u001b[0m, in \u001b[0;36mJSONDecoder.decode\u001b[1;34m(self, s, _w)\u001b[0m\n\u001b[0;32m    332\u001b[0m \u001b[39mdef\u001b[39;00m \u001b[39mdecode\u001b[39m(\u001b[39mself\u001b[39m, s, _w\u001b[39m=\u001b[39mWHITESPACE\u001b[39m.\u001b[39mmatch):\n\u001b[0;32m    333\u001b[0m \u001b[39m    \u001b[39m\u001b[39m\"\"\"Return the Python representation of ``s`` (a ``str`` instance\u001b[39;00m\n\u001b[0;32m    334\u001b[0m \u001b[39m    containing a JSON document).\u001b[39;00m\n\u001b[0;32m    335\u001b[0m \n\u001b[0;32m    336\u001b[0m \u001b[39m    \"\"\"\u001b[39;00m\n\u001b[1;32m--> 337\u001b[0m     obj, end \u001b[39m=\u001b[39m \u001b[39mself\u001b[39;49m\u001b[39m.\u001b[39;49mraw_decode(s, idx\u001b[39m=\u001b[39;49m_w(s, \u001b[39m0\u001b[39;49m)\u001b[39m.\u001b[39;49mend())\n\u001b[0;32m    338\u001b[0m     end \u001b[39m=\u001b[39m _w(s, end)\u001b[39m.\u001b[39mend()\n\u001b[0;32m    339\u001b[0m     \u001b[39mif\u001b[39;00m end \u001b[39m!=\u001b[39m \u001b[39mlen\u001b[39m(s):\n",
      "File \u001b[1;32mc:\\Users\\bobby\\AppData\\Local\\Programs\\Python\\Python311\\Lib\\json\\decoder.py:355\u001b[0m, in \u001b[0;36mJSONDecoder.raw_decode\u001b[1;34m(self, s, idx)\u001b[0m\n\u001b[0;32m    353\u001b[0m     obj, end \u001b[39m=\u001b[39m \u001b[39mself\u001b[39m\u001b[39m.\u001b[39mscan_once(s, idx)\n\u001b[0;32m    354\u001b[0m \u001b[39mexcept\u001b[39;00m \u001b[39mStopIteration\u001b[39;00m \u001b[39mas\u001b[39;00m err:\n\u001b[1;32m--> 355\u001b[0m     \u001b[39mraise\u001b[39;00m JSONDecodeError(\u001b[39m\"\u001b[39m\u001b[39mExpecting value\u001b[39m\u001b[39m\"\u001b[39m, s, err\u001b[39m.\u001b[39mvalue) \u001b[39mfrom\u001b[39;00m \u001b[39mNone\u001b[39;00m\n\u001b[0;32m    356\u001b[0m \u001b[39mreturn\u001b[39;00m obj, end\n",
      "\u001b[1;31mJSONDecodeError\u001b[0m: Expecting value: line 1 column 1 (char 0)"
     ]
    }
   ],
   "source": [
    "\n",
    "already_done = True\n",
    "#IF YOU WANT TO DO A NEW BASE OR IT WON'T WORK SET THAT TO FALSE\n",
    "\n",
    "if already_done:\n",
    "    new_prime = json.loads('primes.json')\n",
    "    new_nonprime = json.loads('nonprimes.json')\n",
    "else:\n",
    "    new_prime = []\n",
    "    new_nonprime = []\n",
    "    highest_power = 1\n",
    "    try:\n",
    "        for i in range(10000000):\n",
    "            num, highest_power = base_converter(i, highest_power, 7)\n",
    "            if sympy.isprime(i):\n",
    "                new_prime.append(num)\n",
    "            else:   new_nonprime.append(num)\n",
    "            if i % 1000000== 0:\n",
    "                print(f'Progress: {round(i / 100000, 2)}%')\n",
    "    except(KeyboardInterrupt):\n",
    "        with open('primes.json', 'w') as f:\n",
    "            json.dump(new_prime, f)\n",
    "        with open('nonprimes.json', 'w') as f:\n",
    "            json.dump(new_nonprime, f)\n",
    "\n",
    "    with open('primes.json', 'w') as f:\n",
    "        json.dump(new_prime, f)\n",
    "    with open('nonprimes.json', 'w') as f:\n",
    "        json.dump(new_nonprime, f)"
   ]
  },
  {
   "cell_type": "code",
   "execution_count": 5,
   "metadata": {},
   "outputs": [
    {
     "ename": "ModuleNotFoundError",
     "evalue": "No module named 'holoviews'",
     "output_type": "error",
     "traceback": [
      "\u001b[1;31m---------------------------------------------------------------------------\u001b[0m",
      "\u001b[1;31mModuleNotFoundError\u001b[0m                       Traceback (most recent call last)",
      "\u001b[1;32mc:\\Users\\bobby\\Coding\\Deep Learning Projects\\DS_Portfolio\\Math_Visualizations\\Prime number circles\\Primevis.ipynb Cell 6\u001b[0m line \u001b[0;36m5\n\u001b[0;32m      <a href='vscode-notebook-cell:/c%3A/Users/bobby/Coding/Deep%20Learning%20Projects/DS_Portfolio/Math_Visualizations/Prime%20number%20circles/Primevis.ipynb#W5sZmlsZQ%3D%3D?line=2'>3</a>\u001b[0m \u001b[39mfrom\u001b[39;00m \u001b[39mmath\u001b[39;00m \u001b[39mimport\u001b[39;00m sin, cos\n\u001b[0;32m      <a href='vscode-notebook-cell:/c%3A/Users/bobby/Coding/Deep%20Learning%20Projects/DS_Portfolio/Math_Visualizations/Prime%20number%20circles/Primevis.ipynb#W5sZmlsZQ%3D%3D?line=3'>4</a>\u001b[0m \u001b[39mimport\u001b[39;00m \u001b[39mdatashader\u001b[39;00m \u001b[39mas\u001b[39;00m \u001b[39mds\u001b[39;00m\n\u001b[1;32m----> <a href='vscode-notebook-cell:/c%3A/Users/bobby/Coding/Deep%20Learning%20Projects/DS_Portfolio/Math_Visualizations/Prime%20number%20circles/Primevis.ipynb#W5sZmlsZQ%3D%3D?line=4'>5</a>\u001b[0m \u001b[39mimport\u001b[39;00m \u001b[39mholoviews\u001b[39;00m \u001b[39mas\u001b[39;00m \u001b[39mhv\u001b[39;00m\n\u001b[0;32m      <a href='vscode-notebook-cell:/c%3A/Users/bobby/Coding/Deep%20Learning%20Projects/DS_Portfolio/Math_Visualizations/Prime%20number%20circles/Primevis.ipynb#W5sZmlsZQ%3D%3D?line=5'>6</a>\u001b[0m \u001b[39mfrom\u001b[39;00m \u001b[39mholoviews\u001b[39;00m\u001b[39m.\u001b[39;00m\u001b[39moperation\u001b[39;00m\u001b[39m.\u001b[39;00m\u001b[39mdatashader\u001b[39;00m \u001b[39mimport\u001b[39;00m datashade\n\u001b[0;32m      <a href='vscode-notebook-cell:/c%3A/Users/bobby/Coding/Deep%20Learning%20Projects/DS_Portfolio/Math_Visualizations/Prime%20number%20circles/Primevis.ipynb#W5sZmlsZQ%3D%3D?line=7'>8</a>\u001b[0m increment \u001b[39m=\u001b[39m \u001b[39mmax\u001b[39m(non_primes)\n",
      "\u001b[1;31mModuleNotFoundError\u001b[0m: No module named 'holoviews'"
     ]
    }
   ],
   "source": [
    "#Next: Graph all on polar coordinates, with  primes in second color!\n",
    "import pandas as pd\n",
    "from math import sin, cos\n",
    "import datashader as ds\n",
    "import holoviews as hv\n",
    "from holoviews.operation.datashader import datashade\n",
    "\n",
    "increment = max(non_primes)\n",
    "prime_frame = pd.DataFrame({'X': [cos(p) * increment * p for p in primes], 'Y': [ sin(p) * increment * p for p in primes]})\n",
    "nonprime_frame = pd.DataFrame({'X': [cos(p) * increment * p for p in non_primes], 'Y': [ sin(p) * increment * p for p in non_primes]})\n",
    "print(prime_frame.head())\n",
    "\n",
    "\n",
    "cvs = ds.Canvas(plot_width=800, plot_height=800)\n",
    "agg = cvs.points(prime_frame[:], 'X', 'Y')\n",
    "agg2 = cvs.points(nonprime_frame[:], 'X', 'Y')\n",
    "ds.tf.shade((agg2, agg))\n",
    "\n"
   ]
  },
  {
   "cell_type": "code",
   "execution_count": null,
   "metadata": {},
   "outputs": [],
   "source": []
  }
 ],
 "metadata": {
  "kernelspec": {
   "display_name": "Python 3",
   "language": "python",
   "name": "python3"
  },
  "language_info": {
   "codemirror_mode": {
    "name": "ipython",
    "version": 3
   },
   "file_extension": ".py",
   "mimetype": "text/x-python",
   "name": "python",
   "nbconvert_exporter": "python",
   "pygments_lexer": "ipython3",
   "version": "3.11.4"
  },
  "orig_nbformat": 4
 },
 "nbformat": 4,
 "nbformat_minor": 2
}
